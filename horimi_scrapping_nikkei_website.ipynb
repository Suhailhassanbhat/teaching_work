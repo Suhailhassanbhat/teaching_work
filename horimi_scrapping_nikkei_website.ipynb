{
 "cells": [
  {
   "cell_type": "code",
   "execution_count": 3,
   "metadata": {},
   "outputs": [],
   "source": [
    "import pandas as pd\n",
    "import requests\n",
    "from bs4 import BeautifulSoup"
   ]
  },
  {
   "cell_type": "code",
   "execution_count": null,
   "metadata": {},
   "outputs": [],
   "source": [
    "# for scrapping the main expert page\n",
    "\n",
    "url= \"https://www.nikkei.com/think-all-experts\"\n",
    "response=requests.get(url, headers={'User-Agent': 'Mozilla/5.0'})\n",
    "\n",
    "doc = BeautifulSoup(response.text, \"html.parser\")\n"
   ]
  },
  {
   "cell_type": "code",
   "execution_count": null,
   "metadata": {},
   "outputs": [],
   "source": [
    "for profile in doc.find_all(class_=\"nui-grid__row profiles\"):\n",
    "  for i in profile.find_all(class_=\"profile__name\"):\n",
    "    print(i.text)\n",
    "  # print(profile.find_all(\"a\"))"
   ]
  },
  {
   "cell_type": "code",
   "execution_count": 5,
   "metadata": {},
   "outputs": [],
   "source": [
    "df=pd.read_csv(\"expert.csv\")"
   ]
  },
  {
   "cell_type": "code",
   "execution_count": 10,
   "metadata": {},
   "outputs": [],
   "source": [
    "# create urls for each expert\n",
    "df['urls']= 'https://www.nikkei.com' + df.link"
   ]
  },
  {
   "cell_type": "code",
   "execution_count": 19,
   "metadata": {},
   "outputs": [
    {
     "data": {
      "text/plain": [
       "'https://www.nikkei.com/topics/topic_expert_EVP01001'"
      ]
     },
     "execution_count": 19,
     "metadata": {},
     "output_type": "execute_result"
    }
   ],
   "source": [
    "df.urls[0]"
   ]
  },
  {
   "cell_type": "code",
   "execution_count": 23,
   "metadata": {},
   "outputs": [],
   "source": [
    "# testing it one expert's profile\n",
    "url= 'https://www.nikkei.com/topics/topic_expert_EVP01001'\n",
    "    \n",
    "response=requests.get(url)\n",
    "doc = BeautifulSoup(response.text, \"html.parser\")\n",
    "doc.find_all(class_=\"stream__header-description expert-comment-profile__bio expert-comment-profile__bio--pc\")[0].text"
   ]
  },
  {
   "cell_type": "code",
   "execution_count": 39,
   "metadata": {},
   "outputs": [],
   "source": [
    "#create an empty list\n",
    "desc_list=[]\n",
    "#loop through all urls\n",
    "for url in df.urls:\n",
    "    #send each url through beautiful soup\n",
    "    response=requests.get(url)\n",
    "    doc = BeautifulSoup(response.text, \"html.parser\")\n",
    "    #create an empty dictionary\n",
    "    desc_dict={}\n",
    "#     add description column\n",
    "    desc_dict['description']=doc.find_all(class_=\"stream__header-description expert-comment-profile__bio expert-comment-profile__bio--pc\")[0].text\n",
    "    #add urls columns for joining with the master data\n",
    "    desc_dict[\"urls\"] = url\n",
    "    #add all dictionaries to the list\n",
    "    desc_list.append(desc_dict)\n"
   ]
  },
  {
   "cell_type": "code",
   "execution_count": 41,
   "metadata": {},
   "outputs": [],
   "source": [
    "#put it in a dataframe\n",
    "desc_df=pd.DataFrame(desc_list)    "
   ]
  },
  {
   "cell_type": "code",
   "execution_count": 45,
   "metadata": {},
   "outputs": [
    {
     "data": {
      "text/html": [
       "<div>\n",
       "<style scoped>\n",
       "    .dataframe tbody tr th:only-of-type {\n",
       "        vertical-align: middle;\n",
       "    }\n",
       "\n",
       "    .dataframe tbody tr th {\n",
       "        vertical-align: top;\n",
       "    }\n",
       "\n",
       "    .dataframe thead th {\n",
       "        text-align: right;\n",
       "    }\n",
       "</style>\n",
       "<table border=\"1\" class=\"dataframe\">\n",
       "  <thead>\n",
       "    <tr style=\"text-align: right;\">\n",
       "      <th></th>\n",
       "      <th>name</th>\n",
       "      <th>headline</th>\n",
       "      <th>link</th>\n",
       "      <th>urls</th>\n",
       "      <th>description</th>\n",
       "    </tr>\n",
       "  </thead>\n",
       "  <tbody>\n",
       "    <tr>\n",
       "      <th>0</th>\n",
       "      <td>青山瑠妙</td>\n",
       "      <td>早稲田大学大学院アジア太平洋研究科　教授</td>\n",
       "      <td>/topics/topic_expert_EVP01001</td>\n",
       "      <td>https://www.nikkei.com/topics/topic_expert_EVP...</td>\n",
       "      <td>早稲田大学現代中国研究所の所長。著書『現代中国の外交』は2008年に大平正芳記念賞を受賞。米...</td>\n",
       "    </tr>\n",
       "    <tr>\n",
       "      <th>1</th>\n",
       "      <td>赤川省吾</td>\n",
       "      <td>日本経済新聞社　欧州総局編集委員</td>\n",
       "      <td>/topics/topic_expert_EVP01069</td>\n",
       "      <td>https://www.nikkei.com/topics/topic_expert_EVP...</td>\n",
       "      <td>欧州全域の政治・経済・文化に精通し、欧州の政治家やセントラルバンカーに幅広い人脈を持つ。19...</td>\n",
       "    </tr>\n",
       "    <tr>\n",
       "      <th>2</th>\n",
       "      <td>秋田浩之</td>\n",
       "      <td>日本経済新聞社　本社コメンテーター</td>\n",
       "      <td>/topics/topic_expert_EVP01002</td>\n",
       "      <td>https://www.nikkei.com/topics/topic_expert_EVP...</td>\n",
       "      <td>国内外の外交、安全保障問題のエキスパートとして「Deep Insight」など論評コラムを連...</td>\n",
       "    </tr>\n",
       "    <tr>\n",
       "      <th>3</th>\n",
       "      <td>浅川直輝</td>\n",
       "      <td>日経BP　「日経コンピュータ」編集長</td>\n",
       "      <td>/topics/topic_expert_EVP01088</td>\n",
       "      <td>https://www.nikkei.com/topics/topic_expert_EVP...</td>\n",
       "      <td>2003年に日経BP入社。日経エレクトロニクス、日本経済新聞を経て現職。人工知能（AI）や量...</td>\n",
       "    </tr>\n",
       "    <tr>\n",
       "      <th>4</th>\n",
       "      <td>天野彬</td>\n",
       "      <td>電通 電通メディアイノベーションラボ　主任研究員</td>\n",
       "      <td>/topics/topic_expert_EVP01074</td>\n",
       "      <td>https://www.nikkei.com/topics/topic_expert_EVP...</td>\n",
       "      <td>1986年生まれ。東京大学大学院学際情報学府修士課程修了（M.A.）。2012年電通入社後、...</td>\n",
       "    </tr>\n",
       "    <tr>\n",
       "      <th>...</th>\n",
       "      <td>...</td>\n",
       "      <td>...</td>\n",
       "      <td>...</td>\n",
       "      <td>...</td>\n",
       "      <td>...</td>\n",
       "    </tr>\n",
       "    <tr>\n",
       "      <th>90</th>\n",
       "      <td>奥平和行</td>\n",
       "      <td>【エキスパート歴】2020年12月～2021年5月</td>\n",
       "      <td>/topics/topic_expert_EVP01008</td>\n",
       "      <td>https://www.nikkei.com/topics/topic_expert_EVP...</td>\n",
       "      <td>※このプロフィールは、エキスパートが就任していた時点のものです日本経済新聞社　米国シリコンバ...</td>\n",
       "    </tr>\n",
       "    <tr>\n",
       "      <th>91</th>\n",
       "      <td>土屋大洋</td>\n",
       "      <td>【エキスパート歴】2020年12月～2021年3月</td>\n",
       "      <td>/topics/topic_expert_EVP01024</td>\n",
       "      <td>https://www.nikkei.com/topics/topic_expert_EVP...</td>\n",
       "      <td>※このプロフィールは、エキスパートが就任していた時点のものです慶應義塾大学　総合政策学部学部...</td>\n",
       "    </tr>\n",
       "    <tr>\n",
       "      <th>92</th>\n",
       "      <td>出口治明</td>\n",
       "      <td>【エキスパート歴】2020年12月～2021年2月</td>\n",
       "      <td>/topics/topic_expert_EVP01025</td>\n",
       "      <td>https://www.nikkei.com/topics/topic_expert_EVP...</td>\n",
       "      <td>※このプロフィールは、エキスパートが就任していた時点のものです立命館アジア太平洋大学　学長京...</td>\n",
       "    </tr>\n",
       "    <tr>\n",
       "      <th>93</th>\n",
       "      <td>山本康正</td>\n",
       "      <td>【エキスパート歴】2020年12月～2021年3月</td>\n",
       "      <td>/topics/topic_expert_EVP01043</td>\n",
       "      <td>https://www.nikkei.com/topics/topic_expert_EVP...</td>\n",
       "      <td>※このプロフィールは、エキスパートが就任していた時点のものですDNX Ventures　イン...</td>\n",
       "    </tr>\n",
       "    <tr>\n",
       "      <th>94</th>\n",
       "      <td>渡辺園子</td>\n",
       "      <td>【エキスパート歴】2020年12月～2021年3月</td>\n",
       "      <td>/topics/topic_expert_EVP01045</td>\n",
       "      <td>https://www.nikkei.com/topics/topic_expert_EVP...</td>\n",
       "      <td>※このプロフィールは、エキスパートが就任していた時点のものです日本経済新聞社　大阪本社編集局...</td>\n",
       "    </tr>\n",
       "  </tbody>\n",
       "</table>\n",
       "<p>95 rows × 5 columns</p>\n",
       "</div>"
      ],
      "text/plain": [
       "    name                   headline                           link  \\\n",
       "0   青山瑠妙       早稲田大学大学院アジア太平洋研究科　教授  /topics/topic_expert_EVP01001   \n",
       "1   赤川省吾           日本経済新聞社　欧州総局編集委員  /topics/topic_expert_EVP01069   \n",
       "2   秋田浩之          日本経済新聞社　本社コメンテーター  /topics/topic_expert_EVP01002   \n",
       "3   浅川直輝         日経BP　「日経コンピュータ」編集長  /topics/topic_expert_EVP01088   \n",
       "4    天野彬   電通 電通メディアイノベーションラボ　主任研究員  /topics/topic_expert_EVP01074   \n",
       "..   ...                        ...                            ...   \n",
       "90  奥平和行  【エキスパート歴】2020年12月～2021年5月  /topics/topic_expert_EVP01008   \n",
       "91  土屋大洋  【エキスパート歴】2020年12月～2021年3月  /topics/topic_expert_EVP01024   \n",
       "92  出口治明  【エキスパート歴】2020年12月～2021年2月  /topics/topic_expert_EVP01025   \n",
       "93  山本康正  【エキスパート歴】2020年12月～2021年3月  /topics/topic_expert_EVP01043   \n",
       "94  渡辺園子  【エキスパート歴】2020年12月～2021年3月  /topics/topic_expert_EVP01045   \n",
       "\n",
       "                                                 urls  \\\n",
       "0   https://www.nikkei.com/topics/topic_expert_EVP...   \n",
       "1   https://www.nikkei.com/topics/topic_expert_EVP...   \n",
       "2   https://www.nikkei.com/topics/topic_expert_EVP...   \n",
       "3   https://www.nikkei.com/topics/topic_expert_EVP...   \n",
       "4   https://www.nikkei.com/topics/topic_expert_EVP...   \n",
       "..                                                ...   \n",
       "90  https://www.nikkei.com/topics/topic_expert_EVP...   \n",
       "91  https://www.nikkei.com/topics/topic_expert_EVP...   \n",
       "92  https://www.nikkei.com/topics/topic_expert_EVP...   \n",
       "93  https://www.nikkei.com/topics/topic_expert_EVP...   \n",
       "94  https://www.nikkei.com/topics/topic_expert_EVP...   \n",
       "\n",
       "                                          description  \n",
       "0   早稲田大学現代中国研究所の所長。著書『現代中国の外交』は2008年に大平正芳記念賞を受賞。米...  \n",
       "1   欧州全域の政治・経済・文化に精通し、欧州の政治家やセントラルバンカーに幅広い人脈を持つ。19...  \n",
       "2   国内外の外交、安全保障問題のエキスパートとして「Deep Insight」など論評コラムを連...  \n",
       "3   2003年に日経BP入社。日経エレクトロニクス、日本経済新聞を経て現職。人工知能（AI）や量...  \n",
       "4   1986年生まれ。東京大学大学院学際情報学府修士課程修了（M.A.）。2012年電通入社後、...  \n",
       "..                                                ...  \n",
       "90  ※このプロフィールは、エキスパートが就任していた時点のものです日本経済新聞社　米国シリコンバ...  \n",
       "91  ※このプロフィールは、エキスパートが就任していた時点のものです慶應義塾大学　総合政策学部学部...  \n",
       "92  ※このプロフィールは、エキスパートが就任していた時点のものです立命館アジア太平洋大学　学長京...  \n",
       "93  ※このプロフィールは、エキスパートが就任していた時点のものですDNX Ventures　イン...  \n",
       "94  ※このプロフィールは、エキスパートが就任していた時点のものです日本経済新聞社　大阪本社編集局...  \n",
       "\n",
       "[95 rows x 5 columns]"
      ]
     },
     "execution_count": 45,
     "metadata": {},
     "output_type": "execute_result"
    }
   ],
   "source": [
    "master_df=df.merge(desc_df)\n",
    "master_df=master_df[[\"name\", \"headline\",\"description\"]]"
   ]
  },
  {
   "cell_type": "code",
   "execution_count": null,
   "metadata": {},
   "outputs": [],
   "source": []
  }
 ],
 "metadata": {
  "kernelspec": {
   "display_name": "Python 3",
   "language": "python",
   "name": "python3"
  },
  "language_info": {
   "codemirror_mode": {
    "name": "ipython",
    "version": 3
   },
   "file_extension": ".py",
   "mimetype": "text/x-python",
   "name": "python",
   "nbconvert_exporter": "python",
   "pygments_lexer": "ipython3",
   "version": "3.8.5"
  }
 },
 "nbformat": 4,
 "nbformat_minor": 4
}

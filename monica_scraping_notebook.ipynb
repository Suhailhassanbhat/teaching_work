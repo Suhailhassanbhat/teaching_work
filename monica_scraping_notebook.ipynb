{
  "nbformat": 4,
  "nbformat_minor": 0,
  "metadata": {
    "colab": {
      "name": "data_cleaning_notebook.ipynb",
      "provenance": []
    },
    "kernelspec": {
      "name": "python3",
      "display_name": "Python 3"
    },
    "language_info": {
      "name": "python"
    }
  },
  "cells": [
    {
      "cell_type": "code",
      "metadata": {
        "id": "ZRF31rpiTaBg"
      },
      "source": [
        "import requests\n",
        "import pandas as pd\n",
        "from bs4 import BeautifulSoup\n"
      ],
      "execution_count": 6,
      "outputs": []
    },
    {
      "cell_type": "code",
      "metadata": {
        "id": "RG2jY7eJTdXI"
      },
      "source": [
        "# response=requests.get(\"https://api.census.gov/data/timeseries/poverty/histpov2.html\")\n",
        "\n"
      ],
      "execution_count": 7,
      "outputs": []
    },
    {
      "cell_type": "code",
      "metadata": {
        "id": "SpuNhg0hTjmA"
      },
      "source": [
        "response=requests.get(\"https://adfinternational.org/regions/united-nations/?post_type=news#page\", headers={'User-Agent': 'Mozilla/5.0'})\n",
        "\n",
        "doc = BeautifulSoup(response.text, \"html.parser\")"
      ],
      "execution_count": 68,
      "outputs": []
    },
    {
      "cell_type": "code",
      "metadata": {
        "colab": {
          "base_uri": "https://localhost:8080/"
        },
        "id": "eM7RDzpl8Ncr",
        "outputId": "07e7ab69-0dde-41bb-8ed9-5793266d94f3"
      },
      "source": [
        "container = doc.find_all(\"li\", class_=\"article-list-item\")\n",
        "\n",
        "for date in container:\n",
        "  print(date.find('strong', class_=\"link\").text)"
      ],
      "execution_count": 73,
      "outputs": [
        {
          "output_type": "stream",
          "text": [
            "Published on 03 Feb 2021\n",
            "Published on 29 Sep 2020\n",
            "Published on 22 Sep 2020\n",
            "Published on 20 Aug 2020\n",
            "Published on 31 Jul 2020\n",
            "Published on 26 Jun 2020\n",
            "Published on 09 Dec 2019\n",
            "Published on 01 Oct 2019\n",
            "Published on 23 Sep 2019\n"
          ],
          "name": "stdout"
        }
      ]
    },
    {
      "cell_type": "code",
      "metadata": {
        "id": "M0eZSXX6TkTK"
      },
      "source": [
        "#but we want to loop through all eight pages\n",
        "\n",
        "#  if I change paged at the end, it scrapes a different set of headlines meaning it refreshing the page\n",
        "article_list = []\n",
        "\n",
        "page_number=0\n",
        "for i in range(0,8): \n",
        "  article_dict= {}\n",
        "  page_number= page_number+1\n",
        "  page= f'https://adfinternational.org/regions/united-nations/?post_type=news&paged={page_number}'\n",
        "  # article_dict['page'] = page\n",
        "  \n",
        "\n",
        "  response=requests.get(page, headers={'User-Agent': 'Mozilla/5.0'})\n",
        "\n",
        "  doc = BeautifulSoup(response.text, \"html.parser\")\n",
        "  for item in doc.find_all(\"li\", class_=\"article-list-item\"):\n",
        "    article_dict['headline']=item.find(\"h4\").text\n",
        "    article_dict['date']= item.find('strong', class_=\"link\").text\n",
        "    article_list.append(article_dict)\n",
        "\n",
        "df=pd.DataFrame(article_list)\n",
        "\n",
        "df['date']=df.date.str.replace(\"Published on\", \"\")"
      ],
      "execution_count": 97,
      "outputs": []
    },
    {
      "cell_type": "code",
      "metadata": {
        "id": "6k7inKQn9_Eo"
      },
      "source": [
        ""
      ],
      "execution_count": 101,
      "outputs": []
    },
    {
      "cell_type": "code",
      "metadata": {
        "id": "XkHsK5lg_GZz"
      },
      "source": [
        ""
      ],
      "execution_count": null,
      "outputs": []
    }
  ]
}
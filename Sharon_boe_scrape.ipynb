{
 "cells": [
  {
   "cell_type": "code",
   "execution_count": 1,
   "metadata": {},
   "outputs": [],
   "source": [
    "# improt all libraries here so that you don't have to run this cell repeatedly\n",
    "import requests\n",
    "from bs4 import BeautifulSoup\n",
    "import pandas as pd\n",
    "import urllib3"
   ]
  },
  {
   "cell_type": "code",
   "execution_count": 2,
   "metadata": {},
   "outputs": [],
   "source": [
    "#data collection\n",
    "# create an empty list that would be a bin for all our data dictionaries\n",
    "list=[]\n",
    "# this is to a round column as it is not present in the table we are scraping \n",
    "i = 0\n",
    "# since we know the pattern of the urls let us loop though all of them\n",
    "for i in range(1,9):\n",
    "#     create an fstring so that the value of i change from 1 to 8\n",
    "    url = f'https://web.enrboenyc.us/rcv/024306_{i}.html'\n",
    "#     get the url, we don't need headers in this case because the website isn't asking for it\n",
    "    response=requests.get(url)\n",
    "    doc = BeautifulSoup(response.text, 'html.parser')\n",
    "#     There is a simple way to scrape the table by using pd.read_html but since xlml doesn't work for me, I will scrape\n",
    "# each element of the table\n",
    "# SInce there are multiple table tages on the page let us use css selector to reach the one we are intersted in\n",
    "    table=doc.select_one(\"#PanelReport > table > tbody > tr > td > table > tbody > tr:nth-child(11) > td > table\").find_all('td')\n",
    "#     Now let us loop through all the table to grab elemnts\n",
    "    for row in table:\n",
    "#         create an empty dictionary\n",
    "        canDict = {}\n",
    "#     now loop through hmtl tags\n",
    "        for idx in row.find_all(\"tr\"):\n",
    "#         add name of candidate to the aforementioned dictionary\n",
    "            canDict['name']= idx.find('td').text\n",
    "    #add votes to the dictionary\n",
    "            canDict['votes'] = idx.find('td').nextSibling.text\n",
    "        # also add a column that would group the votes by rounds\n",
    "            canDict['round'] = str(i)\n",
    "#             send the dictionary to the empty list above\n",
    "        list.append(canDict)\n",
    "#    convert the list to a dataframe, drop nan values, reset index so that it doesn't break\n",
    "voteData=pd.DataFrame(list).dropna().reset_index().drop(columns='index')"
   ]
  },
  {
   "cell_type": "code",
   "execution_count": 3,
   "metadata": {},
   "outputs": [],
   "source": [
    "# create new columns\n",
    "voteData['vote_count']=voteData.votes.str.split(n=1, expand=True)[0]\n",
    "voteData['vote_share']=voteData.votes.str.split(n=1, expand=True)[1]"
   ]
  },
  {
   "cell_type": "code",
   "execution_count": 4,
   "metadata": {},
   "outputs": [],
   "source": [
    "#remove unnecessary columns\n",
    "cleaned_df = voteData[[\"round\",\"name\", \"vote_count\", \"vote_share\"]]"
   ]
  },
  {
   "cell_type": "code",
   "execution_count": 5,
   "metadata": {},
   "outputs": [],
   "source": [
    "# repalce eliminated with 0 throughtout the dataset\n",
    "cleaned_df=cleaned_df.replace(\"eliminated\", \"0\")"
   ]
  },
  {
   "cell_type": "code",
   "execution_count": 8,
   "metadata": {},
   "outputs": [],
   "source": [
    "# replace all symbols from the vote share columbs so that it can be coverted into a float\n",
    "cleaned_df[\"vote_share\"]=cleaned_df.vote_share.str.replace(\n",
    "    \"%\", \"\").str.replace(\"(\",\"\").str.replace(\")\", \"0\").str.replace(\"with no choices left\", \"99999\").astype(float)\n"
   ]
  },
  {
   "cell_type": "code",
   "execution_count": 9,
   "metadata": {},
   "outputs": [
    {
     "name": "stdout",
     "output_type": "stream",
     "text": [
      "<class 'pandas.core.frame.DataFrame'>\n",
      "RangeIndex: 120 entries, 0 to 119\n",
      "Data columns (total 4 columns):\n",
      " #   Column      Non-Null Count  Dtype  \n",
      "---  ------      --------------  -----  \n",
      " 0   round       120 non-null    object \n",
      " 1   name        120 non-null    object \n",
      " 2   vote_count  120 non-null    object \n",
      " 3   vote_share  71 non-null     float64\n",
      "dtypes: float64(1), object(3)\n",
      "memory usage: 3.9+ KB\n"
     ]
    }
   ],
   "source": [
    "cleaned_df.info()"
   ]
  },
  {
   "cell_type": "code",
   "execution_count": null,
   "metadata": {},
   "outputs": [],
   "source": []
  }
 ],
 "metadata": {
  "kernelspec": {
   "display_name": "Python 3",
   "language": "python",
   "name": "python3"
  },
  "language_info": {
   "codemirror_mode": {
    "name": "ipython",
    "version": 3
   },
   "file_extension": ".py",
   "mimetype": "text/x-python",
   "name": "python",
   "nbconvert_exporter": "python",
   "pygments_lexer": "ipython3",
   "version": "3.8.5"
  }
 },
 "nbformat": 4,
 "nbformat_minor": 5
}

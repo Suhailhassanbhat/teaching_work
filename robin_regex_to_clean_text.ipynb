{
 "cells": [
  {
   "cell_type": "code",
   "execution_count": 1,
   "metadata": {},
   "outputs": [],
   "source": [
    "#import libraries pandas and regex\n",
    "import pandas as pd\n",
    "import re\n"
   ]
  },
  {
   "cell_type": "code",
   "execution_count": 2,
   "metadata": {},
   "outputs": [],
   "source": [
    "#read csv file\n",
    "df=pd.read_csv(\"cleaned_Spanish_tweets_rumor_ivermectin.csv\")"
   ]
  },
  {
   "cell_type": "code",
   "execution_count": 3,
   "metadata": {},
   "outputs": [
    {
     "data": {
      "text/plain": [
       "0      [[[-70.6243463, -33.5101485], [-70.5780912, -3...\n",
       "1      [[[-98.289206, 18.83765], [-98.019327, 18.8376...\n",
       "2      [[[-98.289206, 18.83765], [-98.019327, 18.8376...\n",
       "3      [[[-75.729870997496, 4.96440200361095], [-75.3...\n",
       "4      [[[-66.8972931, 10.4268198], [-66.8206344, 10....\n",
       "                             ...                        \n",
       "869    [[[-68.0339966, 10.1125402], [-67.9569168, 10....\n",
       "870    [[[-68.0339966, 10.1125402], [-67.9569168, 10....\n",
       "871    [[[-62.33948, -38.789397], [-62.17072, -38.789...\n",
       "872    [[[-84.3100508, 33.776522], [-84.262886, 33.77...\n",
       "873    [[[-99.1919955, 19.357102], [-99.1309649, 19.3...\n",
       "Name: coordinates, Length: 874, dtype: object"
      ]
     },
     "execution_count": 3,
     "metadata": {},
     "output_type": "execute_result"
    }
   ],
   "source": [
    "# column is messy; goal: clean it up and find the average of all four coordinates to get to a point coordinate\n",
    "df.coordinates"
   ]
  },
  {
   "cell_type": "code",
   "execution_count": 4,
   "metadata": {},
   "outputs": [],
   "source": [
    "#extract first element of the coordinate string\n",
    "df[\"coord1\"]=df.coordinates.str.extract(r'(-\\d+.\\d+, -?\\d+.\\d+)')"
   ]
  },
  {
   "cell_type": "code",
   "execution_count": 5,
   "metadata": {},
   "outputs": [],
   "source": [
    "# second can be extract like this\n",
    "# df[\"coord2\"]=df.coordinates.str.extract(r'( \\[-\\d+.\\d+, -?\\d+.\\d+)').rename(columns={0:\"coord2\"})"
   ]
  },
  {
   "cell_type": "code",
   "execution_count": 6,
   "metadata": {},
   "outputs": [],
   "source": [
    "# but to find the third element, we would extract 2nd and third together first and then remove one by one. Otherwise,\n",
    "# it wouldn't be easy to extract the third element because its structure matches two other columns.\n",
    "df['coord_2plus_3']=df.coordinates.str.extract(r'(-\\d+.\\d+, -?\\d+.\\d+\\], \\[-\\d+.\\d+, -?\\d+.\\d+\\])')"
   ]
  },
  {
   "cell_type": "code",
   "execution_count": 7,
   "metadata": {},
   "outputs": [],
   "source": [
    "# create a column with second element\n",
    "df['coord2']=df.coord_2plus_3.str.extract(r'(-\\d+.\\d+, -?\\d+.\\d+\\])')"
   ]
  },
  {
   "cell_type": "code",
   "execution_count": 8,
   "metadata": {},
   "outputs": [],
   "source": [
    "# do the same for the third\n",
    "df[\"coord3\"]=df.coord_2plus_3.str.extract(r'(\\[-\\d+.\\d+, -?\\d+.\\d+\\])')"
   ]
  },
  {
   "cell_type": "code",
   "execution_count": 9,
   "metadata": {},
   "outputs": [],
   "source": [
    "# because of the unique structure of the fourth, we would extract it like this.\n",
    "df['coord4']=df.coordinates.str.extract(r'(-\\d+.\\d+, -?\\d+.\\d+\\]])')\n",
    "# .rename(columns={0:\"coord2\"})"
   ]
  },
  {
   "cell_type": "code",
   "execution_count": 10,
   "metadata": {},
   "outputs": [],
   "source": [
    "#delete coord_2plus_3 column because it was a dummy column so that we can extract element third in the string.\n",
    "del df[\"coord_2plus_3\"]"
   ]
  },
  {
   "cell_type": "code",
   "execution_count": 11,
   "metadata": {},
   "outputs": [],
   "source": [
    "#before we start splitting the columns let us remove characters\n",
    "df['coord4']=df.coord4.str.replace(\"]]\", \"\")\n",
    "df['coord3']=df.coord3.str.replace('[', '').str.replace(']', '')\n",
    "df['coord2']=df.coord2.str.replace(']', '')"
   ]
  },
  {
   "cell_type": "code",
   "execution_count": 12,
   "metadata": {},
   "outputs": [],
   "source": [
    "# coordinates mean that we have lat and lang, but we need separate average that means we have to divide the columns into two\n",
    "df['coord_1y']=df.coord1.str.extract(r'(-\\d+.\\d+)').astype(float)\n",
    "df['coord_2y']=df.coord2.str.extract(r'(-\\d+.\\d+)').astype(float)\n",
    "df['coord_3y']=df.coord3.str.extract(r'(-\\d+.\\d+)').astype(float)\n",
    "df['coord_4y']=df.coord4.str.extract(r'(-\\d+.\\d+)').astype(float)"
   ]
  },
  {
   "cell_type": "code",
   "execution_count": 13,
   "metadata": {},
   "outputs": [],
   "source": [
    "#extract second coordinate and create a column for each\n",
    "df[\"coord_1x\"]=df.coord1.str.extract(r'(, -?\\d+.\\d+)')\n",
    "df[\"coord_1x\"]= df.coord_1x.str.replace(\", \", \"\").astype(float)\n",
    "\n",
    "df[\"coord_2x\"]=df.coord2.str.extract(r'(, -?\\d+.\\d+)')\n",
    "df[\"coord_2x\"]= df.coord_2x.str.replace(\", \", \"\").astype(float)\n",
    "\n",
    "df[\"coord_3x\"]=df.coord3.str.extract(r'(, -?\\d+.\\d+)')\n",
    "df[\"coord_3x\"]= df.coord_3x.str.replace(\", \", \"\").astype(float)\n",
    "\n",
    "df[\"coord_4x\"]=df.coord4.str.extract(r'(, -?\\d+.\\d+)')\n",
    "df[\"coord_4x\"]= df.coord_4x.str.replace(\", \", \"\").astype(float)"
   ]
  },
  {
   "cell_type": "code",
   "execution_count": 14,
   "metadata": {},
   "outputs": [
    {
     "name": "stdout",
     "output_type": "stream",
     "text": [
      "<class 'pandas.core.frame.DataFrame'>\n",
      "RangeIndex: 874 entries, 0 to 873\n",
      "Data columns (total 21 columns):\n",
      " #   Column        Non-Null Count  Dtype  \n",
      "---  ------        --------------  -----  \n",
      " 0   time          874 non-null    object \n",
      " 1   tweet_id      874 non-null    int64  \n",
      " 2   tweet_text    874 non-null    object \n",
      " 3   user_id       874 non-null    int64  \n",
      " 4   location      736 non-null    object \n",
      " 5   followers     874 non-null    int64  \n",
      " 6   retweets      874 non-null    int64  \n",
      " 7   country_code  873 non-null    object \n",
      " 8   coordinates   873 non-null    object \n",
      " 9   coord1        873 non-null    object \n",
      " 10  coord2        873 non-null    object \n",
      " 11  coord3        873 non-null    object \n",
      " 12  coord4        873 non-null    object \n",
      " 13  coord_1y      873 non-null    float64\n",
      " 14  coord_2y      873 non-null    float64\n",
      " 15  coord_3y      873 non-null    float64\n",
      " 16  coord_4y      873 non-null    float64\n",
      " 17  coord_1x      873 non-null    float64\n",
      " 18  coord_2x      873 non-null    float64\n",
      " 19  coord_3x      873 non-null    float64\n",
      " 20  coord_4x      873 non-null    float64\n",
      "dtypes: float64(8), int64(4), object(9)\n",
      "memory usage: 143.5+ KB\n"
     ]
    }
   ],
   "source": [
    "#check datatypes before we run averages\n",
    "df.info()"
   ]
  },
  {
   "cell_type": "code",
   "execution_count": 15,
   "metadata": {},
   "outputs": [],
   "source": [
    "#average y coordinates and x coordinates\n",
    "# check whether averages are close enough to original values, if yes then we are good.\n",
    "df[\"avg_y_coordinate\"] = (df.coord_1y+df.coord_2y+df.coord_3y+df.coord_4y)/4\n",
    "df[\"avg_x_coordinate\"] = (df.coord_1x+df.coord_2x+df.coord_3x+df.coord_4x)/4"
   ]
  },
  {
   "cell_type": "code",
   "execution_count": 16,
   "metadata": {},
   "outputs": [
    {
     "data": {
      "text/html": [
       "<div>\n",
       "<style scoped>\n",
       "    .dataframe tbody tr th:only-of-type {\n",
       "        vertical-align: middle;\n",
       "    }\n",
       "\n",
       "    .dataframe tbody tr th {\n",
       "        vertical-align: top;\n",
       "    }\n",
       "\n",
       "    .dataframe thead th {\n",
       "        text-align: right;\n",
       "    }\n",
       "</style>\n",
       "<table border=\"1\" class=\"dataframe\">\n",
       "  <thead>\n",
       "    <tr style=\"text-align: right;\">\n",
       "      <th></th>\n",
       "      <th>time</th>\n",
       "      <th>tweet_id</th>\n",
       "      <th>tweet_text</th>\n",
       "      <th>user_id</th>\n",
       "      <th>location</th>\n",
       "      <th>followers</th>\n",
       "      <th>retweets</th>\n",
       "      <th>country_code</th>\n",
       "      <th>coordinates</th>\n",
       "      <th>coord1</th>\n",
       "      <th>...</th>\n",
       "      <th>coord_1y</th>\n",
       "      <th>coord_2y</th>\n",
       "      <th>coord_3y</th>\n",
       "      <th>coord_4y</th>\n",
       "      <th>coord_1x</th>\n",
       "      <th>coord_2x</th>\n",
       "      <th>coord_3x</th>\n",
       "      <th>coord_4x</th>\n",
       "      <th>avg_y_coordinate</th>\n",
       "      <th>avg_x_coordinate</th>\n",
       "    </tr>\n",
       "  </thead>\n",
       "  <tbody>\n",
       "    <tr>\n",
       "      <th>0</th>\n",
       "      <td>Fri Apr 03 23:45:00 +0000 2020</td>\n",
       "      <td>1246222199633203200</td>\n",
       "      <td>ivermectina aún en estudio httpstcojkwkleuzy6</td>\n",
       "      <td>888938190</td>\n",
       "      <td>Santiago, Metropolitana de Santiago</td>\n",
       "      <td>134</td>\n",
       "      <td>0</td>\n",
       "      <td>CL</td>\n",
       "      <td>[[[-70.6243463, -33.5101485], [-70.5780912, -3...</td>\n",
       "      <td>-70.6243463, -33.5101485</td>\n",
       "      <td>...</td>\n",
       "      <td>-70.624346</td>\n",
       "      <td>-70.624346</td>\n",
       "      <td>-70.578091</td>\n",
       "      <td>-70.624346</td>\n",
       "      <td>-33.510148</td>\n",
       "      <td>-33.510148</td>\n",
       "      <td>-33.510148</td>\n",
       "      <td>-33.469745</td>\n",
       "      <td>-70.612783</td>\n",
       "      <td>-33.500048</td>\n",
       "    </tr>\n",
       "    <tr>\n",
       "      <th>1</th>\n",
       "      <td>Sat Apr 04 01:02:17 +0000 2020</td>\n",
       "      <td>1246241648893464600</td>\n",
       "      <td>gisellemontes18 dearsensseman busca esto iverm...</td>\n",
       "      <td>1243701399797616600</td>\n",
       "      <td>Puebla, México</td>\n",
       "      <td>0</td>\n",
       "      <td>0</td>\n",
       "      <td>MX</td>\n",
       "      <td>[[[-98.289206, 18.83765], [-98.019327, 18.8376...</td>\n",
       "      <td>-98.289206, 18.83765</td>\n",
       "      <td>...</td>\n",
       "      <td>-98.289206</td>\n",
       "      <td>-98.289206</td>\n",
       "      <td>-98.019327</td>\n",
       "      <td>-98.289206</td>\n",
       "      <td>18.837650</td>\n",
       "      <td>18.837650</td>\n",
       "      <td>18.837650</td>\n",
       "      <td>19.226809</td>\n",
       "      <td>-98.221736</td>\n",
       "      <td>18.934940</td>\n",
       "    </tr>\n",
       "    <tr>\n",
       "      <th>2</th>\n",
       "      <td>Sat Apr 04 01:00:12 +0000 2020</td>\n",
       "      <td>1246241124458602500</td>\n",
       "      <td>debryanshow itsgrecia busquen ivermectin según...</td>\n",
       "      <td>1243701399797616600</td>\n",
       "      <td>Puebla, México</td>\n",
       "      <td>0</td>\n",
       "      <td>0</td>\n",
       "      <td>MX</td>\n",
       "      <td>[[[-98.289206, 18.83765], [-98.019327, 18.8376...</td>\n",
       "      <td>-98.289206, 18.83765</td>\n",
       "      <td>...</td>\n",
       "      <td>-98.289206</td>\n",
       "      <td>-98.289206</td>\n",
       "      <td>-98.019327</td>\n",
       "      <td>-98.289206</td>\n",
       "      <td>18.837650</td>\n",
       "      <td>18.837650</td>\n",
       "      <td>18.837650</td>\n",
       "      <td>19.226809</td>\n",
       "      <td>-98.221736</td>\n",
       "      <td>18.934940</td>\n",
       "    </tr>\n",
       "    <tr>\n",
       "      <th>3</th>\n",
       "      <td>Sat Apr 04 04:07:49 +0000 2020</td>\n",
       "      <td>1246288336530157600</td>\n",
       "      <td>ivermectina el fármaco que acaba con el corona...</td>\n",
       "      <td>246853720</td>\n",
       "      <td>Bogota - Manizales</td>\n",
       "      <td>736</td>\n",
       "      <td>0</td>\n",
       "      <td>CO</td>\n",
       "      <td>[[[-75.729870997496, 4.96440200361095], [-75.3...</td>\n",
       "      <td>-75.729870997496, 4.96440200361095</td>\n",
       "      <td>...</td>\n",
       "      <td>-75.729871</td>\n",
       "      <td>-75.729871</td>\n",
       "      <td>-75.390699</td>\n",
       "      <td>-75.729871</td>\n",
       "      <td>4.964402</td>\n",
       "      <td>4.964402</td>\n",
       "      <td>4.964402</td>\n",
       "      <td>5.149466</td>\n",
       "      <td>-75.645078</td>\n",
       "      <td>5.010668</td>\n",
       "    </tr>\n",
       "    <tr>\n",
       "      <th>4</th>\n",
       "      <td>Sat Apr 04 11:47:09 +0000 2020</td>\n",
       "      <td>1246403934559907800</td>\n",
       "      <td>🔴atención  descubren un fármaco que podría aca...</td>\n",
       "      <td>161171006</td>\n",
       "      <td>+584143227648 Venezuela.</td>\n",
       "      <td>8457</td>\n",
       "      <td>38</td>\n",
       "      <td>VE</td>\n",
       "      <td>[[[-66.8972931, 10.4268198], [-66.8206344, 10....</td>\n",
       "      <td>-66.8972931, 10.4268198</td>\n",
       "      <td>...</td>\n",
       "      <td>-66.897293</td>\n",
       "      <td>-66.897293</td>\n",
       "      <td>-66.820634</td>\n",
       "      <td>-66.897293</td>\n",
       "      <td>10.426820</td>\n",
       "      <td>10.426820</td>\n",
       "      <td>10.426820</td>\n",
       "      <td>10.489041</td>\n",
       "      <td>-66.878128</td>\n",
       "      <td>10.442375</td>\n",
       "    </tr>\n",
       "  </tbody>\n",
       "</table>\n",
       "<p>5 rows × 23 columns</p>\n",
       "</div>"
      ],
      "text/plain": [
       "                             time             tweet_id  \\\n",
       "0  Fri Apr 03 23:45:00 +0000 2020  1246222199633203200   \n",
       "1  Sat Apr 04 01:02:17 +0000 2020  1246241648893464600   \n",
       "2  Sat Apr 04 01:00:12 +0000 2020  1246241124458602500   \n",
       "3  Sat Apr 04 04:07:49 +0000 2020  1246288336530157600   \n",
       "4  Sat Apr 04 11:47:09 +0000 2020  1246403934559907800   \n",
       "\n",
       "                                          tweet_text              user_id  \\\n",
       "0      ivermectina aún en estudio httpstcojkwkleuzy6            888938190   \n",
       "1  gisellemontes18 dearsensseman busca esto iverm...  1243701399797616600   \n",
       "2  debryanshow itsgrecia busquen ivermectin según...  1243701399797616600   \n",
       "3  ivermectina el fármaco que acaba con el corona...            246853720   \n",
       "4  🔴atención  descubren un fármaco que podría aca...            161171006   \n",
       "\n",
       "                              location  followers  retweets country_code  \\\n",
       "0  Santiago, Metropolitana de Santiago        134         0           CL   \n",
       "1                       Puebla, México          0         0           MX   \n",
       "2                       Puebla, México          0         0           MX   \n",
       "3                   Bogota - Manizales        736         0           CO   \n",
       "4            +584143227648 Venezuela.        8457        38           VE   \n",
       "\n",
       "                                         coordinates  \\\n",
       "0  [[[-70.6243463, -33.5101485], [-70.5780912, -3...   \n",
       "1  [[[-98.289206, 18.83765], [-98.019327, 18.8376...   \n",
       "2  [[[-98.289206, 18.83765], [-98.019327, 18.8376...   \n",
       "3  [[[-75.729870997496, 4.96440200361095], [-75.3...   \n",
       "4  [[[-66.8972931, 10.4268198], [-66.8206344, 10....   \n",
       "\n",
       "                               coord1  ...   coord_1y   coord_2y   coord_3y  \\\n",
       "0            -70.6243463, -33.5101485  ... -70.624346 -70.624346 -70.578091   \n",
       "1                -98.289206, 18.83765  ... -98.289206 -98.289206 -98.019327   \n",
       "2                -98.289206, 18.83765  ... -98.289206 -98.289206 -98.019327   \n",
       "3  -75.729870997496, 4.96440200361095  ... -75.729871 -75.729871 -75.390699   \n",
       "4             -66.8972931, 10.4268198  ... -66.897293 -66.897293 -66.820634   \n",
       "\n",
       "    coord_4y   coord_1x   coord_2x   coord_3x   coord_4x  avg_y_coordinate  \\\n",
       "0 -70.624346 -33.510148 -33.510148 -33.510148 -33.469745        -70.612783   \n",
       "1 -98.289206  18.837650  18.837650  18.837650  19.226809        -98.221736   \n",
       "2 -98.289206  18.837650  18.837650  18.837650  19.226809        -98.221736   \n",
       "3 -75.729871   4.964402   4.964402   4.964402   5.149466        -75.645078   \n",
       "4 -66.897293  10.426820  10.426820  10.426820  10.489041        -66.878128   \n",
       "\n",
       "   avg_x_coordinate  \n",
       "0        -33.500048  \n",
       "1         18.934940  \n",
       "2         18.934940  \n",
       "3          5.010668  \n",
       "4         10.442375  \n",
       "\n",
       "[5 rows x 23 columns]"
      ]
     },
     "execution_count": 16,
     "metadata": {},
     "output_type": "execute_result"
    }
   ],
   "source": [
    "df.head()"
   ]
  },
  {
   "cell_type": "code",
   "execution_count": 17,
   "metadata": {},
   "outputs": [
    {
     "data": {
      "text/plain": [
       "Index(['time', 'tweet_id', 'tweet_text', 'user_id', 'location', 'followers',\n",
       "       'retweets', 'country_code', 'coordinates', 'coord1', 'coord2', 'coord3',\n",
       "       'coord4', 'coord_1y', 'coord_2y', 'coord_3y', 'coord_4y', 'coord_1x',\n",
       "       'coord_2x', 'coord_3x', 'coord_4x', 'avg_y_coordinate',\n",
       "       'avg_x_coordinate'],\n",
       "      dtype='object')"
      ]
     },
     "execution_count": 17,
     "metadata": {},
     "output_type": "execute_result"
    }
   ],
   "source": [
    "df.keys()"
   ]
  },
  {
   "cell_type": "code",
   "execution_count": 18,
   "metadata": {},
   "outputs": [],
   "source": [
    "# remove some columns that we don't need for visualization\n",
    "cleaned_df=df[['time', 'tweet_id', 'tweet_text', 'user_id', 'location', 'followers',\n",
    "       'retweets', 'country_code', 'avg_y_coordinate',\n",
    "       'avg_x_coordinate']]"
   ]
  },
  {
   "cell_type": "code",
   "execution_count": 19,
   "metadata": {},
   "outputs": [
    {
     "data": {
      "text/html": [
       "<div>\n",
       "<style scoped>\n",
       "    .dataframe tbody tr th:only-of-type {\n",
       "        vertical-align: middle;\n",
       "    }\n",
       "\n",
       "    .dataframe tbody tr th {\n",
       "        vertical-align: top;\n",
       "    }\n",
       "\n",
       "    .dataframe thead th {\n",
       "        text-align: right;\n",
       "    }\n",
       "</style>\n",
       "<table border=\"1\" class=\"dataframe\">\n",
       "  <thead>\n",
       "    <tr style=\"text-align: right;\">\n",
       "      <th></th>\n",
       "      <th>time</th>\n",
       "      <th>tweet_id</th>\n",
       "      <th>tweet_text</th>\n",
       "      <th>user_id</th>\n",
       "      <th>location</th>\n",
       "      <th>followers</th>\n",
       "      <th>retweets</th>\n",
       "      <th>country_code</th>\n",
       "      <th>avg_y_coordinate</th>\n",
       "      <th>avg_x_coordinate</th>\n",
       "    </tr>\n",
       "  </thead>\n",
       "  <tbody>\n",
       "    <tr>\n",
       "      <th>0</th>\n",
       "      <td>Fri Apr 03 23:45:00 +0000 2020</td>\n",
       "      <td>1246222199633203200</td>\n",
       "      <td>ivermectina aún en estudio httpstcojkwkleuzy6</td>\n",
       "      <td>888938190</td>\n",
       "      <td>Santiago, Metropolitana de Santiago</td>\n",
       "      <td>134</td>\n",
       "      <td>0</td>\n",
       "      <td>CL</td>\n",
       "      <td>-70.612783</td>\n",
       "      <td>-33.500048</td>\n",
       "    </tr>\n",
       "    <tr>\n",
       "      <th>1</th>\n",
       "      <td>Sat Apr 04 01:02:17 +0000 2020</td>\n",
       "      <td>1246241648893464600</td>\n",
       "      <td>gisellemontes18 dearsensseman busca esto iverm...</td>\n",
       "      <td>1243701399797616600</td>\n",
       "      <td>Puebla, México</td>\n",
       "      <td>0</td>\n",
       "      <td>0</td>\n",
       "      <td>MX</td>\n",
       "      <td>-98.221736</td>\n",
       "      <td>18.934940</td>\n",
       "    </tr>\n",
       "    <tr>\n",
       "      <th>2</th>\n",
       "      <td>Sat Apr 04 01:00:12 +0000 2020</td>\n",
       "      <td>1246241124458602500</td>\n",
       "      <td>debryanshow itsgrecia busquen ivermectin según...</td>\n",
       "      <td>1243701399797616600</td>\n",
       "      <td>Puebla, México</td>\n",
       "      <td>0</td>\n",
       "      <td>0</td>\n",
       "      <td>MX</td>\n",
       "      <td>-98.221736</td>\n",
       "      <td>18.934940</td>\n",
       "    </tr>\n",
       "    <tr>\n",
       "      <th>3</th>\n",
       "      <td>Sat Apr 04 04:07:49 +0000 2020</td>\n",
       "      <td>1246288336530157600</td>\n",
       "      <td>ivermectina el fármaco que acaba con el corona...</td>\n",
       "      <td>246853720</td>\n",
       "      <td>Bogota - Manizales</td>\n",
       "      <td>736</td>\n",
       "      <td>0</td>\n",
       "      <td>CO</td>\n",
       "      <td>-75.645078</td>\n",
       "      <td>5.010668</td>\n",
       "    </tr>\n",
       "    <tr>\n",
       "      <th>4</th>\n",
       "      <td>Sat Apr 04 11:47:09 +0000 2020</td>\n",
       "      <td>1246403934559907800</td>\n",
       "      <td>🔴atención  descubren un fármaco que podría aca...</td>\n",
       "      <td>161171006</td>\n",
       "      <td>+584143227648 Venezuela.</td>\n",
       "      <td>8457</td>\n",
       "      <td>38</td>\n",
       "      <td>VE</td>\n",
       "      <td>-66.878128</td>\n",
       "      <td>10.442375</td>\n",
       "    </tr>\n",
       "  </tbody>\n",
       "</table>\n",
       "</div>"
      ],
      "text/plain": [
       "                             time             tweet_id  \\\n",
       "0  Fri Apr 03 23:45:00 +0000 2020  1246222199633203200   \n",
       "1  Sat Apr 04 01:02:17 +0000 2020  1246241648893464600   \n",
       "2  Sat Apr 04 01:00:12 +0000 2020  1246241124458602500   \n",
       "3  Sat Apr 04 04:07:49 +0000 2020  1246288336530157600   \n",
       "4  Sat Apr 04 11:47:09 +0000 2020  1246403934559907800   \n",
       "\n",
       "                                          tweet_text              user_id  \\\n",
       "0      ivermectina aún en estudio httpstcojkwkleuzy6            888938190   \n",
       "1  gisellemontes18 dearsensseman busca esto iverm...  1243701399797616600   \n",
       "2  debryanshow itsgrecia busquen ivermectin según...  1243701399797616600   \n",
       "3  ivermectina el fármaco que acaba con el corona...            246853720   \n",
       "4  🔴atención  descubren un fármaco que podría aca...            161171006   \n",
       "\n",
       "                              location  followers  retweets country_code  \\\n",
       "0  Santiago, Metropolitana de Santiago        134         0           CL   \n",
       "1                       Puebla, México          0         0           MX   \n",
       "2                       Puebla, México          0         0           MX   \n",
       "3                   Bogota - Manizales        736         0           CO   \n",
       "4            +584143227648 Venezuela.        8457        38           VE   \n",
       "\n",
       "   avg_y_coordinate  avg_x_coordinate  \n",
       "0        -70.612783        -33.500048  \n",
       "1        -98.221736         18.934940  \n",
       "2        -98.221736         18.934940  \n",
       "3        -75.645078          5.010668  \n",
       "4        -66.878128         10.442375  "
      ]
     },
     "execution_count": 19,
     "metadata": {},
     "output_type": "execute_result"
    }
   ],
   "source": [
    "cleaned_df.head()"
   ]
  },
  {
   "cell_type": "code",
   "execution_count": 20,
   "metadata": {},
   "outputs": [
    {
     "name": "stdout",
     "output_type": "stream",
     "text": [
      "<class 'pandas.core.frame.DataFrame'>\n",
      "RangeIndex: 874 entries, 0 to 873\n",
      "Data columns (total 10 columns):\n",
      " #   Column            Non-Null Count  Dtype  \n",
      "---  ------            --------------  -----  \n",
      " 0   time              874 non-null    object \n",
      " 1   tweet_id          874 non-null    int64  \n",
      " 2   tweet_text        874 non-null    object \n",
      " 3   user_id           874 non-null    int64  \n",
      " 4   location          736 non-null    object \n",
      " 5   followers         874 non-null    int64  \n",
      " 6   retweets          874 non-null    int64  \n",
      " 7   country_code      873 non-null    object \n",
      " 8   avg_y_coordinate  873 non-null    float64\n",
      " 9   avg_x_coordinate  873 non-null    float64\n",
      "dtypes: float64(2), int64(4), object(4)\n",
      "memory usage: 68.4+ KB\n"
     ]
    }
   ],
   "source": [
    "cleaned_df.info()"
   ]
  },
  {
   "cell_type": "code",
   "execution_count": null,
   "metadata": {},
   "outputs": [],
   "source": []
  }
 ],
 "metadata": {
  "kernelspec": {
   "display_name": "Python 3",
   "language": "python",
   "name": "python3"
  },
  "language_info": {
   "codemirror_mode": {
    "name": "ipython",
    "version": 3
   },
   "file_extension": ".py",
   "mimetype": "text/x-python",
   "name": "python",
   "nbconvert_exporter": "python",
   "pygments_lexer": "ipython3",
   "version": "3.8.5"
  }
 },
 "nbformat": 4,
 "nbformat_minor": 4
}
